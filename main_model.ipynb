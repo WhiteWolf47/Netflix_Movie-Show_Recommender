{
 "cells": [
  {
   "cell_type": "code",
   "execution_count": 1,
   "id": "fb772820",
   "metadata": {},
   "outputs": [],
   "source": [
    "import numpy as np \n",
    "import pandas as pd"
   ]
  },
  {
   "cell_type": "code",
   "execution_count": 2,
   "id": "e4f2444e",
   "metadata": {},
   "outputs": [],
   "source": [
    "df = pd.read_csv('Netflix-Dataset-Latest-2021.csv')"
   ]
  },
  {
   "cell_type": "code",
   "execution_count": 5,
   "id": "dc98a160",
   "metadata": {},
   "outputs": [
    {
     "name": "stdout",
     "output_type": "stream",
     "text": [
      "Collecting openpyxl\n",
      "  Downloading openpyxl-3.0.9-py2.py3-none-any.whl (242 kB)\n",
      "     ------------------------------------ 242.2/242.2 KB 743.3 kB/s eta 0:00:00\n",
      "Collecting et-xmlfile\n",
      "  Downloading et_xmlfile-1.1.0-py3-none-any.whl (4.7 kB)\n",
      "Installing collected packages: et-xmlfile, openpyxl\n",
      "Successfully installed et-xmlfile-1.1.0 openpyxl-3.0.9\n"
     ]
    }
   ],
   "source": [
    "!pip install openpyxl"
   ]
  },
  {
   "cell_type": "code",
   "execution_count": 59,
   "id": "5f7be972",
   "metadata": {},
   "outputs": [
    {
     "data": {
      "text/plain": [
       "9425"
      ]
     },
     "execution_count": 59,
     "metadata": {},
     "output_type": "execute_result"
    }
   ],
   "source": [
    "len(df)"
   ]
  },
  {
   "cell_type": "code",
   "execution_count": 4,
   "id": "137382eb",
   "metadata": {},
   "outputs": [
    {
     "data": {
      "text/html": [
       "<div>\n",
       "<style scoped>\n",
       "    .dataframe tbody tr th:only-of-type {\n",
       "        vertical-align: middle;\n",
       "    }\n",
       "\n",
       "    .dataframe tbody tr th {\n",
       "        vertical-align: top;\n",
       "    }\n",
       "\n",
       "    .dataframe thead th {\n",
       "        text-align: right;\n",
       "    }\n",
       "</style>\n",
       "<table border=\"1\" class=\"dataframe\">\n",
       "  <thead>\n",
       "    <tr style=\"text-align: right;\">\n",
       "      <th></th>\n",
       "      <th>Title</th>\n",
       "      <th>Genre</th>\n",
       "      <th>Tags</th>\n",
       "      <th>Languages</th>\n",
       "      <th>Series or Movie</th>\n",
       "      <th>Hidden Gem Score</th>\n",
       "      <th>Country Availability</th>\n",
       "      <th>Runtime</th>\n",
       "      <th>Director</th>\n",
       "      <th>Writer</th>\n",
       "      <th>...</th>\n",
       "      <th>Netflix Link</th>\n",
       "      <th>IMDb Link</th>\n",
       "      <th>Summary</th>\n",
       "      <th>IMDb Votes</th>\n",
       "      <th>Image</th>\n",
       "      <th>Poster</th>\n",
       "      <th>TMDb Trailer</th>\n",
       "      <th>Trailer Site</th>\n",
       "      <th>Unnamed: 29</th>\n",
       "      <th>Unnamed: 30</th>\n",
       "    </tr>\n",
       "  </thead>\n",
       "  <tbody>\n",
       "    <tr>\n",
       "      <th>0</th>\n",
       "      <td>Lets Fight Ghost</td>\n",
       "      <td>Crime, Drama, Fantasy, Horror, Romance</td>\n",
       "      <td>Comedy Programmes,Romantic TV Comedies,Horror ...</td>\n",
       "      <td>Swedish, Spanish</td>\n",
       "      <td>Series</td>\n",
       "      <td>4.3</td>\n",
       "      <td>Thailand</td>\n",
       "      <td>&lt; 30 minutes</td>\n",
       "      <td>Tomas Alfredson</td>\n",
       "      <td>John Ajvide Lindqvist</td>\n",
       "      <td>...</td>\n",
       "      <td>https://www.netflix.com/watch/81415947</td>\n",
       "      <td>https://www.imdb.com/title/tt1139797</td>\n",
       "      <td>A med student with a supernatural gift tries t...</td>\n",
       "      <td>205926.0</td>\n",
       "      <td>https://occ-0-4708-64.1.nflxso.net/dnm/api/v6/...</td>\n",
       "      <td>https://m.media-amazon.com/images/M/MV5BOWM4NT...</td>\n",
       "      <td>https://www.youtube.com/watch?v=LqB6XJix-dM</td>\n",
       "      <td>YouTube</td>\n",
       "      <td>NaN</td>\n",
       "      <td>NaN</td>\n",
       "    </tr>\n",
       "    <tr>\n",
       "      <th>1</th>\n",
       "      <td>HOW TO BUILD A GIRL</td>\n",
       "      <td>Comedy</td>\n",
       "      <td>Dramas,Comedies,Films Based on Books,British</td>\n",
       "      <td>English</td>\n",
       "      <td>Movie</td>\n",
       "      <td>7.0</td>\n",
       "      <td>Canada</td>\n",
       "      <td>1-2 hour</td>\n",
       "      <td>Coky Giedroyc</td>\n",
       "      <td>Caitlin Moran</td>\n",
       "      <td>...</td>\n",
       "      <td>https://www.netflix.com/watch/81041267</td>\n",
       "      <td>https://www.imdb.com/title/tt4193072</td>\n",
       "      <td>When nerdy Johanna moves to London, things get...</td>\n",
       "      <td>2838.0</td>\n",
       "      <td>https://occ-0-1081-999.1.nflxso.net/dnm/api/v6...</td>\n",
       "      <td>https://m.media-amazon.com/images/M/MV5BZGUyN2...</td>\n",
       "      <td>https://www.youtube.com/watch?v=eIbcxPy4okQ</td>\n",
       "      <td>YouTube</td>\n",
       "      <td>NaN</td>\n",
       "      <td>NaN</td>\n",
       "    </tr>\n",
       "  </tbody>\n",
       "</table>\n",
       "<p>2 rows × 31 columns</p>\n",
       "</div>"
      ],
      "text/plain": [
       "                 Title                                   Genre  \\\n",
       "0     Lets Fight Ghost  Crime, Drama, Fantasy, Horror, Romance   \n",
       "1  HOW TO BUILD A GIRL                                  Comedy   \n",
       "\n",
       "                                                Tags         Languages  \\\n",
       "0  Comedy Programmes,Romantic TV Comedies,Horror ...  Swedish, Spanish   \n",
       "1       Dramas,Comedies,Films Based on Books,British           English   \n",
       "\n",
       "  Series or Movie  Hidden Gem Score Country Availability       Runtime  \\\n",
       "0          Series               4.3             Thailand  < 30 minutes   \n",
       "1           Movie               7.0               Canada      1-2 hour   \n",
       "\n",
       "          Director                 Writer  ...  \\\n",
       "0  Tomas Alfredson  John Ajvide Lindqvist  ...   \n",
       "1    Coky Giedroyc          Caitlin Moran  ...   \n",
       "\n",
       "                             Netflix Link  \\\n",
       "0  https://www.netflix.com/watch/81415947   \n",
       "1  https://www.netflix.com/watch/81041267   \n",
       "\n",
       "                              IMDb Link  \\\n",
       "0  https://www.imdb.com/title/tt1139797   \n",
       "1  https://www.imdb.com/title/tt4193072   \n",
       "\n",
       "                                             Summary  IMDb Votes  \\\n",
       "0  A med student with a supernatural gift tries t...    205926.0   \n",
       "1  When nerdy Johanna moves to London, things get...      2838.0   \n",
       "\n",
       "                                               Image  \\\n",
       "0  https://occ-0-4708-64.1.nflxso.net/dnm/api/v6/...   \n",
       "1  https://occ-0-1081-999.1.nflxso.net/dnm/api/v6...   \n",
       "\n",
       "                                              Poster  \\\n",
       "0  https://m.media-amazon.com/images/M/MV5BOWM4NT...   \n",
       "1  https://m.media-amazon.com/images/M/MV5BZGUyN2...   \n",
       "\n",
       "                                  TMDb Trailer Trailer Site Unnamed: 29  \\\n",
       "0  https://www.youtube.com/watch?v=LqB6XJix-dM      YouTube         NaN   \n",
       "1  https://www.youtube.com/watch?v=eIbcxPy4okQ      YouTube         NaN   \n",
       "\n",
       "  Unnamed: 30  \n",
       "0         NaN  \n",
       "1         NaN  \n",
       "\n",
       "[2 rows x 31 columns]"
      ]
     },
     "execution_count": 4,
     "metadata": {},
     "output_type": "execute_result"
    }
   ],
   "source": [
    "df.head(2)"
   ]
  },
  {
   "cell_type": "code",
   "execution_count": 5,
   "id": "0108d8b2",
   "metadata": {},
   "outputs": [
    {
     "data": {
      "text/plain": [
       "Title                       0\n",
       "Genre                      25\n",
       "Tags                       36\n",
       "Languages                 159\n",
       "Series or Movie             0\n",
       "Hidden Gem Score           10\n",
       "Country Availability       11\n",
       "Runtime                     1\n",
       "Director                 2305\n",
       "Writer                   1810\n",
       "Actors                    111\n",
       "View Rating              2598\n",
       "IMDb Score                  8\n",
       "Rotten Tomatoes Score    3980\n",
       "Metacritic Score         5343\n",
       "Awards Received          4199\n",
       "Awards Nominated For     3049\n",
       "Boxoffice                5671\n",
       "Release Date              208\n",
       "Netflix Release Date        0\n",
       "Production House         5032\n",
       "Netflix Link                0\n",
       "IMDb Link                 324\n",
       "Summary                     5\n",
       "IMDb Votes                 10\n",
       "Image                       0\n",
       "Poster                    938\n",
       "TMDb Trailer                0\n",
       "Trailer Site                1\n",
       "Unnamed: 29              9425\n",
       "Unnamed: 30              9425\n",
       "dtype: int64"
      ]
     },
     "execution_count": 5,
     "metadata": {},
     "output_type": "execute_result"
    }
   ],
   "source": [
    "df.isnull().sum()"
   ]
  },
  {
   "cell_type": "code",
   "execution_count": 6,
   "id": "4e04b018",
   "metadata": {},
   "outputs": [
    {
     "data": {
      "text/plain": [
       "Index(['Title', 'Genre', 'Tags', 'Languages', 'Series or Movie',\n",
       "       'Hidden Gem Score', 'Country Availability', 'Runtime', 'Director',\n",
       "       'Writer', 'Actors', 'View Rating', 'IMDb Score',\n",
       "       'Rotten Tomatoes Score', 'Metacritic Score', 'Awards Received',\n",
       "       'Awards Nominated For', 'Boxoffice', 'Release Date',\n",
       "       'Netflix Release Date', 'Production House', 'Netflix Link', 'IMDb Link',\n",
       "       'Summary', 'IMDb Votes', 'Image', 'Poster', 'TMDb Trailer',\n",
       "       'Trailer Site', 'Unnamed: 29', 'Unnamed: 30'],\n",
       "      dtype='object')"
      ]
     },
     "execution_count": 6,
     "metadata": {},
     "output_type": "execute_result"
    }
   ],
   "source": [
    "df.columns"
   ]
  },
  {
   "cell_type": "code",
   "execution_count": 148,
   "id": "b34f27a6",
   "metadata": {},
   "outputs": [],
   "source": [
    "movies = df[['Title','Genre','Tags','Series or Movie','Director','Writer','Actors','Production House']]"
   ]
  },
  {
   "cell_type": "code",
   "execution_count": 149,
   "id": "cb0e00c3",
   "metadata": {},
   "outputs": [
    {
     "data": {
      "text/plain": [
       "9425"
      ]
     },
     "execution_count": 149,
     "metadata": {},
     "output_type": "execute_result"
    }
   ],
   "source": [
    "len(movies)"
   ]
  },
  {
   "cell_type": "code",
   "execution_count": 150,
   "id": "38fd5ab2",
   "metadata": {},
   "outputs": [],
   "source": [
    "import ast"
   ]
  },
  {
   "cell_type": "code",
   "execution_count": 151,
   "id": "e41fba97",
   "metadata": {},
   "outputs": [],
   "source": [
    "def convert(text):\n",
    "    L = []\n",
    "    text = str(text).replace(\" \", \"\")\n",
    "    text = list(str(text).split(\",\"))\n",
    "    for i in text:\n",
    "        L.append(i)\n",
    "    return L "
   ]
  },
  {
   "cell_type": "code",
   "execution_count": 147,
   "id": "4211c26c",
   "metadata": {},
   "outputs": [
    {
     "name": "stderr",
     "output_type": "stream",
     "text": [
      "C:\\Users\\anura\\AppData\\Local\\Temp\\ipykernel_10152\\3786870272.py:1: SettingWithCopyWarning: \n",
      "A value is trying to be set on a copy of a slice from a DataFrame\n",
      "\n",
      "See the caveats in the documentation: https://pandas.pydata.org/pandas-docs/stable/user_guide/indexing.html#returning-a-view-versus-a-copy\n",
      "  movies.dropna(inplace=True)\n"
     ]
    }
   ],
   "source": [
    "movies.dropna(inplace=True)"
   ]
  },
  {
   "cell_type": "code",
   "execution_count": 152,
   "id": "1926cdc5",
   "metadata": {},
   "outputs": [
    {
     "name": "stderr",
     "output_type": "stream",
     "text": [
      "C:\\Users\\anura\\AppData\\Local\\Temp\\ipykernel_10152\\1329983746.py:1: SettingWithCopyWarning: \n",
      "A value is trying to be set on a copy of a slice from a DataFrame.\n",
      "Try using .loc[row_indexer,col_indexer] = value instead\n",
      "\n",
      "See the caveats in the documentation: https://pandas.pydata.org/pandas-docs/stable/user_guide/indexing.html#returning-a-view-versus-a-copy\n",
      "  movies['Genre'] = movies['Genre'].apply(convert)\n"
     ]
    }
   ],
   "source": [
    "movies['Genre'] = movies['Genre'].apply(convert)\n"
   ]
  },
  {
   "cell_type": "code",
   "execution_count": 153,
   "id": "70e24f4f",
   "metadata": {},
   "outputs": [
    {
     "data": {
      "text/html": [
       "<div>\n",
       "<style scoped>\n",
       "    .dataframe tbody tr th:only-of-type {\n",
       "        vertical-align: middle;\n",
       "    }\n",
       "\n",
       "    .dataframe tbody tr th {\n",
       "        vertical-align: top;\n",
       "    }\n",
       "\n",
       "    .dataframe thead th {\n",
       "        text-align: right;\n",
       "    }\n",
       "</style>\n",
       "<table border=\"1\" class=\"dataframe\">\n",
       "  <thead>\n",
       "    <tr style=\"text-align: right;\">\n",
       "      <th></th>\n",
       "      <th>Title</th>\n",
       "      <th>Genre</th>\n",
       "      <th>Tags</th>\n",
       "      <th>Series or Movie</th>\n",
       "      <th>Director</th>\n",
       "      <th>Writer</th>\n",
       "      <th>Actors</th>\n",
       "      <th>Production House</th>\n",
       "    </tr>\n",
       "  </thead>\n",
       "  <tbody>\n",
       "    <tr>\n",
       "      <th>3751</th>\n",
       "      <td>Happy End</td>\n",
       "      <td>[Crime, Drama, Romance]</td>\n",
       "      <td>Dramas,Crime Dramas,Korean Movies,Korean Drama...</td>\n",
       "      <td>Movie</td>\n",
       "      <td>Ji-woo Jung</td>\n",
       "      <td>Ji-woo Jung</td>\n",
       "      <td>Mi-seon Hwang, Choi Min-sik, Ju Jin-Mo, Jeon D...</td>\n",
       "      <td>NaN</td>\n",
       "    </tr>\n",
       "    <tr>\n",
       "      <th>1415</th>\n",
       "      <td>The Pied Piper</td>\n",
       "      <td>[Animation, Fantasy, Horror]</td>\n",
       "      <td>Social Issue Dramas,Dramas,Period Pieces,Class...</td>\n",
       "      <td>Movie</td>\n",
       "      <td>Jirí Barta</td>\n",
       "      <td>Kamil Pixa, Viktor Dyk</td>\n",
       "      <td>Oldrich Kaiser, Jirí Lábus, Michal Pavlícek, V...</td>\n",
       "      <td>NaN</td>\n",
       "    </tr>\n",
       "  </tbody>\n",
       "</table>\n",
       "</div>"
      ],
      "text/plain": [
       "               Title                         Genre  \\\n",
       "3751       Happy End       [Crime, Drama, Romance]   \n",
       "1415  The Pied Piper  [Animation, Fantasy, Horror]   \n",
       "\n",
       "                                                   Tags Series or Movie  \\\n",
       "3751  Dramas,Crime Dramas,Korean Movies,Korean Drama...           Movie   \n",
       "1415  Social Issue Dramas,Dramas,Period Pieces,Class...           Movie   \n",
       "\n",
       "         Director                  Writer  \\\n",
       "3751  Ji-woo Jung             Ji-woo Jung   \n",
       "1415   Jirí Barta  Kamil Pixa, Viktor Dyk   \n",
       "\n",
       "                                                 Actors Production House  \n",
       "3751  Mi-seon Hwang, Choi Min-sik, Ju Jin-Mo, Jeon D...              NaN  \n",
       "1415  Oldrich Kaiser, Jirí Lábus, Michal Pavlícek, V...              NaN  "
      ]
     },
     "execution_count": 153,
     "metadata": {},
     "output_type": "execute_result"
    }
   ],
   "source": [
    "movies.sample(2)"
   ]
  },
  {
   "cell_type": "code",
   "execution_count": 154,
   "id": "7c22e797",
   "metadata": {},
   "outputs": [
    {
     "data": {
      "text/plain": [
       "9425"
      ]
     },
     "execution_count": 154,
     "metadata": {},
     "output_type": "execute_result"
    }
   ],
   "source": [
    "len(movies)"
   ]
  },
  {
   "cell_type": "code",
   "execution_count": 155,
   "id": "109e24ba",
   "metadata": {},
   "outputs": [
    {
     "name": "stderr",
     "output_type": "stream",
     "text": [
      "C:\\Users\\anura\\AppData\\Local\\Temp\\ipykernel_10152\\1391748596.py:1: SettingWithCopyWarning: \n",
      "A value is trying to be set on a copy of a slice from a DataFrame.\n",
      "Try using .loc[row_indexer,col_indexer] = value instead\n",
      "\n",
      "See the caveats in the documentation: https://pandas.pydata.org/pandas-docs/stable/user_guide/indexing.html#returning-a-view-versus-a-copy\n",
      "  movies['Tags'] = movies['Tags'].apply(convert)\n",
      "C:\\Users\\anura\\AppData\\Local\\Temp\\ipykernel_10152\\1391748596.py:2: SettingWithCopyWarning: \n",
      "A value is trying to be set on a copy of a slice from a DataFrame.\n",
      "Try using .loc[row_indexer,col_indexer] = value instead\n",
      "\n",
      "See the caveats in the documentation: https://pandas.pydata.org/pandas-docs/stable/user_guide/indexing.html#returning-a-view-versus-a-copy\n",
      "  movies['Series or Movie'] = movies['Series or Movie'].apply(convert)\n",
      "C:\\Users\\anura\\AppData\\Local\\Temp\\ipykernel_10152\\1391748596.py:3: SettingWithCopyWarning: \n",
      "A value is trying to be set on a copy of a slice from a DataFrame.\n",
      "Try using .loc[row_indexer,col_indexer] = value instead\n",
      "\n",
      "See the caveats in the documentation: https://pandas.pydata.org/pandas-docs/stable/user_guide/indexing.html#returning-a-view-versus-a-copy\n",
      "  movies['Director'] = movies['Director'].apply(convert)\n",
      "C:\\Users\\anura\\AppData\\Local\\Temp\\ipykernel_10152\\1391748596.py:4: SettingWithCopyWarning: \n",
      "A value is trying to be set on a copy of a slice from a DataFrame.\n",
      "Try using .loc[row_indexer,col_indexer] = value instead\n",
      "\n",
      "See the caveats in the documentation: https://pandas.pydata.org/pandas-docs/stable/user_guide/indexing.html#returning-a-view-versus-a-copy\n",
      "  movies['Writer'] = movies['Writer'].apply(convert)\n",
      "C:\\Users\\anura\\AppData\\Local\\Temp\\ipykernel_10152\\1391748596.py:5: SettingWithCopyWarning: \n",
      "A value is trying to be set on a copy of a slice from a DataFrame.\n",
      "Try using .loc[row_indexer,col_indexer] = value instead\n",
      "\n",
      "See the caveats in the documentation: https://pandas.pydata.org/pandas-docs/stable/user_guide/indexing.html#returning-a-view-versus-a-copy\n",
      "  movies['Actors'] = movies['Actors'].apply(convert)\n",
      "C:\\Users\\anura\\AppData\\Local\\Temp\\ipykernel_10152\\1391748596.py:6: SettingWithCopyWarning: \n",
      "A value is trying to be set on a copy of a slice from a DataFrame.\n",
      "Try using .loc[row_indexer,col_indexer] = value instead\n",
      "\n",
      "See the caveats in the documentation: https://pandas.pydata.org/pandas-docs/stable/user_guide/indexing.html#returning-a-view-versus-a-copy\n",
      "  movies['Production House'] = movies['Production House'].apply(convert)\n"
     ]
    }
   ],
   "source": [
    "movies['Tags'] = movies['Tags'].apply(convert)\n",
    "movies['Series or Movie'] = movies['Series or Movie'].apply(convert)\n",
    "movies['Director'] = movies['Director'].apply(convert)\n",
    "movies['Writer'] = movies['Writer'].apply(convert)\n",
    "movies['Actors'] = movies['Actors'].apply(convert)\n",
    "movies['Production House'] = movies['Production House'].apply(convert)"
   ]
  },
  {
   "cell_type": "code",
   "execution_count": 161,
   "id": "04ef0049",
   "metadata": {},
   "outputs": [
    {
     "data": {
      "text/html": [
       "<div>\n",
       "<style scoped>\n",
       "    .dataframe tbody tr th:only-of-type {\n",
       "        vertical-align: middle;\n",
       "    }\n",
       "\n",
       "    .dataframe tbody tr th {\n",
       "        vertical-align: top;\n",
       "    }\n",
       "\n",
       "    .dataframe thead th {\n",
       "        text-align: right;\n",
       "    }\n",
       "</style>\n",
       "<table border=\"1\" class=\"dataframe\">\n",
       "  <thead>\n",
       "    <tr style=\"text-align: right;\">\n",
       "      <th></th>\n",
       "      <th>Title</th>\n",
       "      <th>Genre</th>\n",
       "      <th>Tags</th>\n",
       "      <th>Series or Movie</th>\n",
       "      <th>Director</th>\n",
       "      <th>Writer</th>\n",
       "      <th>Actors</th>\n",
       "      <th>Production House</th>\n",
       "      <th>tags</th>\n",
       "    </tr>\n",
       "  </thead>\n",
       "  <tbody>\n",
       "    <tr>\n",
       "      <th>4911</th>\n",
       "      <td>Geralds Game</td>\n",
       "      <td>[Drama, Horror, Thriller]</td>\n",
       "      <td>[PsychologicalThrillers, Thrillers, HorrorFilm...</td>\n",
       "      <td>[Movie]</td>\n",
       "      <td>[MikeFlanagan]</td>\n",
       "      <td>[JeffHoward, StephenKing, MikeFlanagan]</td>\n",
       "      <td>[CarlaGugino, BruceGreenwood, ChiaraAurelia, C...</td>\n",
       "      <td>[nan]</td>\n",
       "      <td>[Drama, Horror, Thriller, PsychologicalThrille...</td>\n",
       "    </tr>\n",
       "    <tr>\n",
       "      <th>6760</th>\n",
       "      <td>Maps to the Stars</td>\n",
       "      <td>[Comedy, Drama]</td>\n",
       "      <td>[Dramas, Spoofs&amp;Satires, DarkComedies, Showbiz...</td>\n",
       "      <td>[Movie]</td>\n",
       "      <td>[DavidCronenberg]</td>\n",
       "      <td>[BruceWagner]</td>\n",
       "      <td>[MiaWasikowska, EvanBird, JohnCusack, Julianne...</td>\n",
       "      <td>[IntegralFilm, ProsperoPictures, SBSProduction...</td>\n",
       "      <td>[Comedy, Drama, Dramas, Spoofs&amp;Satires, DarkCo...</td>\n",
       "    </tr>\n",
       "  </tbody>\n",
       "</table>\n",
       "</div>"
      ],
      "text/plain": [
       "                  Title                      Genre  \\\n",
       "4911       Geralds Game  [Drama, Horror, Thriller]   \n",
       "6760  Maps to the Stars            [Comedy, Drama]   \n",
       "\n",
       "                                                   Tags Series or Movie  \\\n",
       "4911  [PsychologicalThrillers, Thrillers, HorrorFilm...         [Movie]   \n",
       "6760  [Dramas, Spoofs&Satires, DarkComedies, Showbiz...         [Movie]   \n",
       "\n",
       "               Director                                   Writer  \\\n",
       "4911     [MikeFlanagan]  [JeffHoward, StephenKing, MikeFlanagan]   \n",
       "6760  [DavidCronenberg]                            [BruceWagner]   \n",
       "\n",
       "                                                 Actors  \\\n",
       "4911  [CarlaGugino, BruceGreenwood, ChiaraAurelia, C...   \n",
       "6760  [MiaWasikowska, EvanBird, JohnCusack, Julianne...   \n",
       "\n",
       "                                       Production House  \\\n",
       "4911                                              [nan]   \n",
       "6760  [IntegralFilm, ProsperoPictures, SBSProduction...   \n",
       "\n",
       "                                                   tags  \n",
       "4911  [Drama, Horror, Thriller, PsychologicalThrille...  \n",
       "6760  [Comedy, Drama, Dramas, Spoofs&Satires, DarkCo...  "
      ]
     },
     "execution_count": 161,
     "metadata": {},
     "output_type": "execute_result"
    }
   ],
   "source": [
    "movies.sample(2)"
   ]
  },
  {
   "cell_type": "code",
   "execution_count": 157,
   "id": "78ba7d00",
   "metadata": {},
   "outputs": [
    {
     "data": {
      "text/plain": [
       "Index(['Title', 'Genre', 'Tags', 'Series or Movie', 'Director', 'Writer',\n",
       "       'Actors', 'Production House'],\n",
       "      dtype='object')"
      ]
     },
     "execution_count": 157,
     "metadata": {},
     "output_type": "execute_result"
    }
   ],
   "source": [
    "movies.columns"
   ]
  },
  {
   "cell_type": "code",
   "execution_count": 158,
   "id": "76860b95",
   "metadata": {},
   "outputs": [
    {
     "data": {
      "text/plain": [
       "9425"
      ]
     },
     "execution_count": 158,
     "metadata": {},
     "output_type": "execute_result"
    }
   ],
   "source": [
    "len(movies)"
   ]
  },
  {
   "cell_type": "code",
   "execution_count": 159,
   "id": "e2b9c4bc",
   "metadata": {},
   "outputs": [
    {
     "name": "stderr",
     "output_type": "stream",
     "text": [
      "C:\\Users\\anura\\AppData\\Local\\Temp\\ipykernel_10152\\4004404974.py:1: SettingWithCopyWarning: \n",
      "A value is trying to be set on a copy of a slice from a DataFrame.\n",
      "Try using .loc[row_indexer,col_indexer] = value instead\n",
      "\n",
      "See the caveats in the documentation: https://pandas.pydata.org/pandas-docs/stable/user_guide/indexing.html#returning-a-view-versus-a-copy\n",
      "  movies['tags'] = movies['Genre'] + movies['Tags'] + movies['Series or Movie'] + movies['Director'] + movies['Writer'] + movies['Actors'] + movies['Production House']\n"
     ]
    }
   ],
   "source": [
    "movies['tags'] = movies['Genre'] + movies['Tags'] + movies['Series or Movie'] + movies['Director'] + movies['Writer'] + movies['Actors'] + movies['Production House']"
   ]
  },
  {
   "cell_type": "code",
   "execution_count": 162,
   "id": "56631702",
   "metadata": {},
   "outputs": [],
   "source": [
    "movies_df = movies.drop(columns=['Genre', 'Tags', 'Series or Movie', 'Director', 'Writer', 'Actors', 'Production House'])"
   ]
  },
  {
   "cell_type": "code",
   "execution_count": 163,
   "id": "a051afa9",
   "metadata": {},
   "outputs": [
    {
     "data": {
      "text/html": [
       "<div>\n",
       "<style scoped>\n",
       "    .dataframe tbody tr th:only-of-type {\n",
       "        vertical-align: middle;\n",
       "    }\n",
       "\n",
       "    .dataframe tbody tr th {\n",
       "        vertical-align: top;\n",
       "    }\n",
       "\n",
       "    .dataframe thead th {\n",
       "        text-align: right;\n",
       "    }\n",
       "</style>\n",
       "<table border=\"1\" class=\"dataframe\">\n",
       "  <thead>\n",
       "    <tr style=\"text-align: right;\">\n",
       "      <th></th>\n",
       "      <th>Title</th>\n",
       "      <th>tags</th>\n",
       "    </tr>\n",
       "  </thead>\n",
       "  <tbody>\n",
       "    <tr>\n",
       "      <th>0</th>\n",
       "      <td>Lets Fight Ghost</td>\n",
       "      <td>[Crime, Drama, Fantasy, Horror, Romance, Comed...</td>\n",
       "    </tr>\n",
       "    <tr>\n",
       "      <th>1</th>\n",
       "      <td>HOW TO BUILD A GIRL</td>\n",
       "      <td>[Comedy, Dramas, Comedies, FilmsBasedonBooks, ...</td>\n",
       "    </tr>\n",
       "    <tr>\n",
       "      <th>2</th>\n",
       "      <td>The Con-Heartist</td>\n",
       "      <td>[Comedy, Romance, RomanticComedies, Comedies, ...</td>\n",
       "    </tr>\n",
       "    <tr>\n",
       "      <th>3</th>\n",
       "      <td>Gleboka woda</td>\n",
       "      <td>[Drama, TVDramas, PolishTVShows, SocialIssueTV...</td>\n",
       "    </tr>\n",
       "    <tr>\n",
       "      <th>4</th>\n",
       "      <td>Only a Mother</td>\n",
       "      <td>[Drama, SocialIssueDramas, Dramas, MoviesBased...</td>\n",
       "    </tr>\n",
       "    <tr>\n",
       "      <th>5</th>\n",
       "      <td>Snowroller</td>\n",
       "      <td>[Comedy, SportsMovies, SportsComedies, Comedie...</td>\n",
       "    </tr>\n",
       "    <tr>\n",
       "      <th>6</th>\n",
       "      <td>The Invisible</td>\n",
       "      <td>[Crime, Drama, Fantasy, Mystery, Thriller, Thr...</td>\n",
       "    </tr>\n",
       "    <tr>\n",
       "      <th>7</th>\n",
       "      <td>The Simple Minded Murderer</td>\n",
       "      <td>[Drama, SocialIssueDramas, Dramas, MoviesBased...</td>\n",
       "    </tr>\n",
       "    <tr>\n",
       "      <th>8</th>\n",
       "      <td>To Kill a Child</td>\n",
       "      <td>[Short, Drama, Dramas, SwedishMovies, Movie, J...</td>\n",
       "    </tr>\n",
       "    <tr>\n",
       "      <th>9</th>\n",
       "      <td>Joker</td>\n",
       "      <td>[Crime, Drama, Thriller, DarkComedies, CrimeCo...</td>\n",
       "    </tr>\n",
       "  </tbody>\n",
       "</table>\n",
       "</div>"
      ],
      "text/plain": [
       "                        Title  \\\n",
       "0            Lets Fight Ghost   \n",
       "1         HOW TO BUILD A GIRL   \n",
       "2            The Con-Heartist   \n",
       "3                Gleboka woda   \n",
       "4               Only a Mother   \n",
       "5                  Snowroller   \n",
       "6               The Invisible   \n",
       "7  The Simple Minded Murderer   \n",
       "8             To Kill a Child   \n",
       "9                       Joker   \n",
       "\n",
       "                                                tags  \n",
       "0  [Crime, Drama, Fantasy, Horror, Romance, Comed...  \n",
       "1  [Comedy, Dramas, Comedies, FilmsBasedonBooks, ...  \n",
       "2  [Comedy, Romance, RomanticComedies, Comedies, ...  \n",
       "3  [Drama, TVDramas, PolishTVShows, SocialIssueTV...  \n",
       "4  [Drama, SocialIssueDramas, Dramas, MoviesBased...  \n",
       "5  [Comedy, SportsMovies, SportsComedies, Comedie...  \n",
       "6  [Crime, Drama, Fantasy, Mystery, Thriller, Thr...  \n",
       "7  [Drama, SocialIssueDramas, Dramas, MoviesBased...  \n",
       "8  [Short, Drama, Dramas, SwedishMovies, Movie, J...  \n",
       "9  [Crime, Drama, Thriller, DarkComedies, CrimeCo...  "
      ]
     },
     "execution_count": 163,
     "metadata": {},
     "output_type": "execute_result"
    }
   ],
   "source": [
    "movies_df.head(10)"
   ]
  },
  {
   "cell_type": "code",
   "execution_count": 137,
   "id": "4d000162",
   "metadata": {},
   "outputs": [],
   "source": [
    "movies_df.reset_index(drop=True, inplace=True)"
   ]
  },
  {
   "cell_type": "code",
   "execution_count": 164,
   "id": "7687cbf3",
   "metadata": {},
   "outputs": [],
   "source": [
    "def convert_tags(text):\n",
    "    str = \"\"\n",
    "    for i in text:\n",
    "        str = str + i +\" \"\n",
    "    return str"
   ]
  },
  {
   "cell_type": "code",
   "execution_count": 165,
   "id": "19201f9e",
   "metadata": {},
   "outputs": [],
   "source": [
    "movies_df['tags'] = movies_df['tags'].apply(convert_tags)"
   ]
  },
  {
   "cell_type": "code",
   "execution_count": 177,
   "id": "bf6b9a03",
   "metadata": {},
   "outputs": [
    {
     "data": {
      "text/plain": [
       "'Crime Drama Fantasy Horror Romance ComedyProgrammes RomanticTVComedies HorrorProgrammes ThaiTVProgrammes Series TomasAlfredson JohnAjvideLindqvist LinaLeandersson KåreHedebrant PerRagnar HenrikDahl Canal+ SandrewMetronome '"
      ]
     },
     "execution_count": 177,
     "metadata": {},
     "output_type": "execute_result"
    }
   ],
   "source": [
    "movies_df.iloc[0]['tags']"
   ]
  },
  {
   "cell_type": "code",
   "execution_count": 168,
   "id": "78b308da",
   "metadata": {},
   "outputs": [
    {
     "data": {
      "text/html": [
       "<div>\n",
       "<style scoped>\n",
       "    .dataframe tbody tr th:only-of-type {\n",
       "        vertical-align: middle;\n",
       "    }\n",
       "\n",
       "    .dataframe tbody tr th {\n",
       "        vertical-align: top;\n",
       "    }\n",
       "\n",
       "    .dataframe thead th {\n",
       "        text-align: right;\n",
       "    }\n",
       "</style>\n",
       "<table border=\"1\" class=\"dataframe\">\n",
       "  <thead>\n",
       "    <tr style=\"text-align: right;\">\n",
       "      <th></th>\n",
       "      <th>Title</th>\n",
       "      <th>tags</th>\n",
       "    </tr>\n",
       "  </thead>\n",
       "  <tbody>\n",
       "    <tr>\n",
       "      <th>276</th>\n",
       "      <td>Gangaajal</td>\n",
       "      <td>Action Crime Drama SocialIssueDramas Bollywood...</td>\n",
       "    </tr>\n",
       "    <tr>\n",
       "      <th>2764</th>\n",
       "      <td>Mission: Impossible - Fallout</td>\n",
       "      <td>Action Adventure Thriller SpyAction&amp;Adventure ...</td>\n",
       "    </tr>\n",
       "    <tr>\n",
       "      <th>3792</th>\n",
       "      <td>Jagga Jasoos</td>\n",
       "      <td>Action Adventure Comedy Musical Mystery Comedi...</td>\n",
       "    </tr>\n",
       "    <tr>\n",
       "      <th>1197</th>\n",
       "      <td>Kingdom</td>\n",
       "      <td>Action Drama Horror Thriller DramaProgrammes U...</td>\n",
       "    </tr>\n",
       "    <tr>\n",
       "      <th>2270</th>\n",
       "      <td>Upstarts</td>\n",
       "      <td>Drama Hindi-LanguageMovies Dramas Comedies Ind...</td>\n",
       "    </tr>\n",
       "  </tbody>\n",
       "</table>\n",
       "</div>"
      ],
      "text/plain": [
       "                              Title  \\\n",
       "276                       Gangaajal   \n",
       "2764  Mission: Impossible - Fallout   \n",
       "3792                   Jagga Jasoos   \n",
       "1197                        Kingdom   \n",
       "2270                       Upstarts   \n",
       "\n",
       "                                                   tags  \n",
       "276   Action Crime Drama SocialIssueDramas Bollywood...  \n",
       "2764  Action Adventure Thriller SpyAction&Adventure ...  \n",
       "3792  Action Adventure Comedy Musical Mystery Comedi...  \n",
       "1197  Action Drama Horror Thriller DramaProgrammes U...  \n",
       "2270  Drama Hindi-LanguageMovies Dramas Comedies Ind...  "
      ]
     },
     "execution_count": 168,
     "metadata": {},
     "output_type": "execute_result"
    }
   ],
   "source": [
    "movies_df.sample(5)"
   ]
  },
  {
   "cell_type": "code",
   "execution_count": 178,
   "id": "ed54ed35",
   "metadata": {},
   "outputs": [],
   "source": [
    "from sklearn.feature_extraction.text import CountVectorizer\n",
    "cv = CountVectorizer(max_features=5000,stop_words='english')"
   ]
  },
  {
   "cell_type": "code",
   "execution_count": 179,
   "id": "9e67a090",
   "metadata": {},
   "outputs": [],
   "source": [
    "vector = cv.fit_transform(movies_df['tags']).toarray()"
   ]
  },
  {
   "cell_type": "code",
   "execution_count": 180,
   "id": "6b4dc9e8",
   "metadata": {},
   "outputs": [
    {
     "data": {
      "text/plain": [
       "(9425, 5000)"
      ]
     },
     "execution_count": 180,
     "metadata": {},
     "output_type": "execute_result"
    }
   ],
   "source": [
    "vector.shape"
   ]
  },
  {
   "cell_type": "code",
   "execution_count": 181,
   "id": "f6022794",
   "metadata": {},
   "outputs": [
    {
     "data": {
      "text/plain": [
       "9425"
      ]
     },
     "execution_count": 181,
     "metadata": {},
     "output_type": "execute_result"
    }
   ],
   "source": [
    "len(movies_df)"
   ]
  },
  {
   "cell_type": "code",
   "execution_count": 182,
   "id": "dc764293",
   "metadata": {},
   "outputs": [],
   "source": [
    "from sklearn.metrics.pairwise import cosine_similarity"
   ]
  },
  {
   "cell_type": "code",
   "execution_count": 183,
   "id": "72aaf11f",
   "metadata": {},
   "outputs": [],
   "source": [
    "similarity = cosine_similarity(vector)"
   ]
  },
  {
   "cell_type": "code",
   "execution_count": 184,
   "id": "2a070b55",
   "metadata": {},
   "outputs": [
    {
     "data": {
      "text/plain": [
       "array([[1.        , 0.        , 0.07161149, ..., 0.        , 0.        ,\n",
       "        0.06201737],\n",
       "       [0.        , 1.        , 0.25819889, ..., 0.20100756, 0.28867513,\n",
       "        0.0745356 ],\n",
       "       [0.07161149, 0.25819889, 1.        , ..., 0.46709937, 0.2981424 ,\n",
       "        0.23094011],\n",
       "       ...,\n",
       "       [0.        , 0.20100756, 0.46709937, ..., 1.        , 0.34815531,\n",
       "        0.40451992],\n",
       "       [0.        , 0.28867513, 0.2981424 , ..., 0.34815531, 1.        ,\n",
       "        0.25819889],\n",
       "       [0.06201737, 0.0745356 , 0.23094011, ..., 0.40451992, 0.25819889,\n",
       "        1.        ]])"
      ]
     },
     "execution_count": 184,
     "metadata": {},
     "output_type": "execute_result"
    }
   ],
   "source": [
    "similarity"
   ]
  },
  {
   "cell_type": "code",
   "execution_count": 185,
   "id": "598a0f11",
   "metadata": {},
   "outputs": [],
   "source": [
    "def recommend(movie):\n",
    "    index = movies_df[movies_df['Title'] == movie].index[0]\n",
    "    distances = sorted(list(enumerate(similarity[index])),reverse=True,key = lambda x: x[1])\n",
    "    for i in distances[1:6]:\n",
    "        print(movies_df.iloc[i[0]].Title)"
   ]
  },
  {
   "cell_type": "code",
   "execution_count": 186,
   "id": "71e7ef91",
   "metadata": {},
   "outputs": [
    {
     "name": "stdout",
     "output_type": "stream",
     "text": [
      "The Last Witch Hunter\n",
      "Clash of the Titans\n",
      "In the Name of the King: A Dungeon Siege Tale\n",
      "The Forbidden Kingdom\n",
      "Kingsglaive: Final Fantasy XV\n"
     ]
    }
   ],
   "source": [
    "recommend('Dragonheart')"
   ]
  },
  {
   "cell_type": "code",
   "execution_count": 187,
   "id": "cb2a8f63",
   "metadata": {},
   "outputs": [],
   "source": [
    "import pickle"
   ]
  },
  {
   "cell_type": "code",
   "execution_count": 188,
   "id": "b3639963",
   "metadata": {},
   "outputs": [],
   "source": [
    "pickle.dump(movies_df,open('movie_list.pkl','wb'))\n",
    "pickle.dump(df,open('movie_info.pkl','wb'))\n",
    "pickle.dump(similarity,open('similarity.pkl','wb'))"
   ]
  },
  {
   "cell_type": "code",
   "execution_count": null,
   "id": "d6eb424c",
   "metadata": {},
   "outputs": [],
   "source": []
  }
 ],
 "metadata": {
  "kernelspec": {
   "display_name": "movie",
   "language": "python",
   "name": "movie"
  },
  "language_info": {
   "codemirror_mode": {
    "name": "ipython",
    "version": 3
   },
   "file_extension": ".py",
   "mimetype": "text/x-python",
   "name": "python",
   "nbconvert_exporter": "python",
   "pygments_lexer": "ipython3",
   "version": "3.9.2"
  }
 },
 "nbformat": 4,
 "nbformat_minor": 5
}
